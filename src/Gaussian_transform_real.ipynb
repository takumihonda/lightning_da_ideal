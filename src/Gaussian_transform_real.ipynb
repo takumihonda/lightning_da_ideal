{
 "cells": [
  {
   "cell_type": "code",
   "execution_count": 1,
   "metadata": {},
   "outputs": [
    {
     "name": "stdout",
     "output_type": "stream",
     "text": [
      "(3791,)\n"
     ]
    }
   ],
   "source": [
    "import numpy as np\n",
    "\n",
    "# Sample size\n",
    "K = 100\n",
    "KC = 10000\n",
    "\n",
    "# Gamma Background\n",
    "#shape, scale = 1., 2.\n",
    "#gamma = np.random.gamma(shape, scale, K)\n",
    "#cgamma = np.random.gamma(shape, scale, KC)\n",
    "\n",
    "count = np.zeros(21)\n",
    "###count[0:7] = np.array( [ 8054, 50, 15, 3, 2, 0, 1 ] )\n",
    "count[0:7] = np.array( [ 3711, 53, 20, 3, 3, 1, 0 ] )\n",
    "#count[0:10] = np.array( [ 818, 16, 12, 6, 6, 2, 1, 4, 3, 1 ] )\n",
    "\n",
    "flash = np.arange(21)\n",
    "\n",
    "import matplotlib.pyplot as plt\n",
    "#_ = plt.hist( cgamma )\n",
    "plt.bar(flash, count)\n",
    "\n",
    "cgamma = np.zeros( ( int(count[0]) ) )\n",
    "for i in range( 1, len(flash) ):\n",
    "    tmp = np.ones( int(count[i]) ) \n",
    "    cgamma = np.append( cgamma, tmp )\n",
    "\n",
    "\n",
    "print( cgamma.shape )\n",
    "#from scipy.stats import invgamma\n",
    "#a = 3.0\n",
    "#rigamma = invgamma.rvs(a, size=K)"
   ]
  },
  {
   "cell_type": "code",
   "execution_count": 2,
   "metadata": {},
   "outputs": [
    {
     "name": "stdout",
     "output_type": "stream",
     "text": [
      "nbin:11\n",
      "nbin:44\n"
     ]
    },
    {
     "data": {
      "image/png": "[encoded data removed]",
      "text/plain": [
       "<Figure size 1008x432 with 2 Axes>"
      ]
     },
     "metadata": {
      "needs_background": "light"
     },
     "output_type": "display_data"
    }
   ],
   "source": [
    "# Empirical CDF of original variable y:  F(y)\n",
    "data_s = np.sort(cgamma)\n",
    "#\n",
    "p_l = np.arange(len(data_s)) / len(data_s)\n",
    "#p_l = np.zeros( len(flash) )\n",
    "#for i in range( len(flash) ):\n",
    "#    p_l[i] = np.sum( count[0:i] ) / np.sum(count)\n",
    "#print( p_l )\n",
    "#print(\"chk\")\n",
    "\n",
    "from scipy.special import erfinv\n",
    "\n",
    "def F(y=0.0, data_s=data_s, p_l=p_l, ymin=1.0):\n",
    "    idxs = [0] * len(y)\n",
    "    for i in range( len(y) ):\n",
    "        idxs[i] = int( np.abs(np.asarray(data_s) - y[i]).argmin() )\n",
    "    return( p_l[idxs] )\n",
    "\n",
    "    \n",
    "def F_G_inv(P = 0.0):\n",
    "    return( np.sqrt(2.0) * erfinv(2.0*P - 1) )\n",
    "\n",
    "\n",
    "y = cgamma\n",
    "P = F(y=y, p_l=p_l )\n",
    "\n",
    "# y < ymin treatment (zero precipitation)\n",
    "ymin = 1.0\n",
    "num0c = np.count_nonzero( cgamma < ymin )\n",
    "PC = p_l[ int(num0c/2) ]\n",
    "P0 = PC / 2\n",
    "#print(\"P0\", P0)\n",
    "\n",
    "P[ y < ymin ] = P0\n",
    "#\n",
    "y_t = F_G_inv(P)\n",
    "\n",
    "\n",
    "#print(y_t.shape)\n",
    "#print( \"Original\", gamma[0:10])\n",
    "#print( \"Gaussian CDF\", P[0:10] )\n",
    "#print( \"Gaussian y_tilda\", y_t[0:10])\n",
    "#print( np.mean(y_t) )\n",
    "#print( P, y_t )\n",
    "#    plt.plot( data_s, p )\n",
    "\n",
    "\n",
    "xmin2= -5\n",
    "xmax2= 5\n",
    "xmin1 = -1\n",
    "xmax1 = 10\n",
    "#h_org = 3.5 * np.std(gamma) / np.power( len(y_t), 0.333 )\n",
    "\n",
    "import matplotlib.pyplot as plt\n",
    "fig, (ax1, ax2) = plt.subplots( 1, 2, figsize=(14, 6))\n",
    "\n",
    "xmin_l = [ xmin1, xmin2 ]\n",
    "xmax_l = [ xmax1, xmax2 ]\n",
    "\n",
    "tit_l = [ \"Original PDF\", \"Transformed PDF\" ]\n",
    "sigma_l = [ np.std( y, ddof=1 ), 1.0 ]\n",
    "ax_l = [ax1, ax2 ]\n",
    "dat_l = [ y, y_t,  ]\n",
    "xlab_l = [\"flash count\", r'$\\sigma$']\n",
    "for i, dat in  enumerate( dat_l ):\n",
    "    h = 3.5 * sigma_l[i] / np.power( len(y_t), 0.333 )\n",
    "    nbin = int ( ( xmax_l[i] - xmin_l[i] ) / h )\n",
    "    if i == 0:\n",
    "        nbin = int( xmax_l[i] - xmin_l[i] ) # \n",
    "    print( \"nbin:{0:}\".format(nbin) )\n",
    "\n",
    "    _ = ax_l[i].hist( dat, density=False, range=(xmin_l[i], xmax_l[i]), \n",
    "                     bins=nbin,\n",
    "                     align='left',\n",
    "                     rwidth=10.0,\n",
    "                    )\n",
    "    ax_l[i].set_xlim( xmin_l[i], xmax_l[i] )\n",
    "    ax_l[i].text( 0.5, 1.01, tit_l[i],\n",
    "                 fontsize=20, transform=ax_l[i].transAxes,\n",
    "                horizontalalignment='center',\n",
    "                verticalalignment='bottom',\n",
    "                )\n",
    "    ax_l[i].set_xlabel( xlab_l[i], fontsize=15 )"
   ]
  },
  {
   "cell_type": "code",
   "execution_count": null,
   "metadata": {},
   "outputs": [],
   "source": []
  }
 ],
 "metadata": {
  "kernelspec": {
   "display_name": "Python 3",
   "language": "python",
   "name": "python3"
  },
  "language_info": {
   "codemirror_mode": {
    "name": "ipython",
    "version": 3
   },
   "file_extension": ".py",
   "mimetype": "text/x-python",
   "name": "python",
   "nbconvert_exporter": "python",
   "pygments_lexer": "ipython3",
   "version": "3.7.4"
  }
 },
 "nbformat": 4,
 "nbformat_minor": 2
}
