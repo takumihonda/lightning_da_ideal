{
 "cells": [
  {
   "cell_type": "code",
   "execution_count": 142,
   "metadata": {},
   "outputs": [],
   "source": [
    "import numpy as np\n",
    "\n",
    "# ETKF\n",
    "#\n",
    "# Single observation\n",
    "# No observation operator\n",
    "\n",
    "# Ensemble size\n",
    "K = 1000\n",
    "\n",
    "# Background\n",
    "mean = 0.0\n",
    "sigma = 1.0\n",
    "X = np.random.normal( mean, sigma, K).reshape((1, K))\n",
    "X -= np.mean(X) + mean\n",
    "X = X / np.std(X, ddof=1)*sigma\n",
    "\n",
    "# Obs\n",
    "obs = 2.0\n",
    "oerr = 1.0\n",
    "R = np.square(oerr)\n",
    "\n",
    "#print(X.shape, R.shape)\n",
    "#print(R)"
   ]
  },
  {
   "cell_type": "code",
   "execution_count": 171,
   "metadata": {},
   "outputs": [],
   "source": [
    "# Gamma Background\n",
    "shape, scale = 2., 2.\n",
    "gamma = np.random.gamma(shape, scale, K)\n",
    "gamma -= np.mean( gamma) + mean\n",
    "gamma = gamma / np.std(gamma,ddof=1) * sigma\n"
   ]
  },
  {
   "cell_type": "code",
   "execution_count": 172,
   "metadata": {},
   "outputs": [],
   "source": [
    "def ETKF( X ):\n",
    "    # O-B\n",
    "    omb = (obs - np.mean(X) ).reshape((1, 1)) \n",
    "\n",
    "    Xe = X - np.mean(X)\n",
    "\n",
    "\n",
    "    # Kalman gain\n",
    "    # (L)ETKF\n",
    "    work = np.identity( K ) * (K-1) + Xe.T @ Xe / R\n",
    "\n",
    "    from numpy import linalg as LA\n",
    "    eig, V = LA.eigh(work)\n",
    "\n",
    "    P_ah = V @ np.diag(1.0 / eig) @ V.T\n",
    "    P_ah2 = V @ np.diag(1.0 / np.sqrt(eig)) @ V.T\n",
    "\n",
    "    #print(Xe.shape, P_ah.shape)\n",
    "\n",
    "    w1d = (P_ah @ Xe.T / R*omb).reshape((K,1)) \n",
    "\n",
    "    W = np.sqrt(K - 1) * P_ah2 + w1d\n",
    "\n",
    "    Xa = np.mean(X) + Xe  @ W \n",
    "\n",
    "    #print(Xa.shape)\n",
    "    #print( np.mean(Xa), np.mean(X), obs, omb)\n",
    "    return(Xa)"
   ]
  },
  {
   "cell_type": "code",
   "execution_count": 176,
   "metadata": {},
   "outputs": [
    {
     "name": "stdout",
     "output_type": "stream",
     "text": [
      "Analysis spread: 0.71 (Gaussian), 1.00 (Gamma)\n"
     ]
    },
    {
     "data": {
      "image/png": "[encoded data removed]",
      "text/plain": [
       "<Figure size 432x288 with 1 Axes>"
      ]
     },
     "metadata": {
      "needs_background": "light"
     },
     "output_type": "display_data"
    }
   ],
   "source": [
    "# plot\n",
    "\n",
    "#guess = X\n",
    "#guess = gamma\n",
    "Xa_gaus = ETKF( X)\n",
    "Xa_gamma = ETKF( gamma)\n",
    "\n",
    "Xa = Xa_gamma\n",
    "\n",
    "xmin = -6\n",
    "xmax = 6\n",
    "\n",
    "c_l = [\"k\", \"r\"]\n",
    "\n",
    "data_l = [guess, Xa, ]\n",
    "\n",
    "import matplotlib.pyplot as plt\n",
    "import scipy.stats as stats\n",
    "\n",
    "# Obs Gaussian\n",
    "sigma_ = oerr\n",
    "mean_ = obs\n",
    "x_ = np.linspace(xmin, xmax )\n",
    "#plt.plot(x_, stats.norm.pdf(x_, mean_, sigma_), color='b', alpha=0.5)\n",
    "#plt.fill_between(x_, stats.norm.pdf(x_, mean_, sigma_), \n",
    "#                 color='b', alpha=0.2)\n",
    "\n",
    "\n",
    "for i, data in enumerate( data_l ):\n",
    "    data = np.ravel( data )\n",
    "    h = 3.5 * np.std(data, ddof=1) / np.power(K, 0.333)\n",
    "    nbin = int( (xmax - xmin) / h)\n",
    "\n",
    "#    '''\n",
    "    y, x, _ = plt.hist( data, density=True, color=c_l[i], \n",
    "                       range=(xmin, xmax), bins=nbin, alpha=0.2,\n",
    "                      rwidth=1.0)\n",
    "    plt.vlines( x = np.mean(data), ymin=y.min(), ymax=0.6,\n",
    "              color=c_l[i], ls='dashed')\n",
    "#    '''\n",
    "    # Gaussian\n",
    "    sigma_ = np.std(data, ddof=1)\n",
    "    mean_ = np.mean(data)\n",
    "    x_ = np.linspace(xmin, xmax )\n",
    "    plt.plot(x_, stats.norm.pdf(x_, mean_, sigma_), color=c_l[i], alpha=0.5 )\n",
    "    plt.fill_between(x_, stats.norm.pdf(x_, mean_, sigma_), \n",
    "                     color=c_l[i], alpha=0.2 )\n",
    "\n",
    "# Analysis mean from a Gaussian guess\n",
    "_ = plt.vlines( x = np.mean(Xa), ymin=y.min(), ymax=0.6,\n",
    "              color='g', ls='dashed')\n",
    "print(\"Analysis spread: {0:.2f} (Gaussian), {1:.2f} (Gamma)\".format( np.std(Xa_gaus, ddof=1),\n",
    "                                                  np.std(Xa_gamma, ddof=1)))\n",
    "#plt.set_ylim(0, 0.6)\n",
    "#_ = plt.vlines( x = obs, ymin=y.min(), ymax=y.max(),\n",
    "#              color=\"b\", ls='dashed')"
   ]
  },
  {
   "cell_type": "code",
   "execution_count": null,
   "metadata": {},
   "outputs": [],
   "source": []
  },
  {
   "cell_type": "code",
   "execution_count": null,
   "metadata": {},
   "outputs": [],
   "source": []
  }
 ],
 "metadata": {
  "kernelspec": {
   "display_name": "Python 3",
   "language": "python",
   "name": "python3"
  },
  "language_info": {
   "codemirror_mode": {
    "name": "ipython",
    "version": 3
   },
   "file_extension": ".py",
   "mimetype": "text/x-python",
   "name": "python",
   "nbconvert_exporter": "python",
   "pygments_lexer": "ipython3",
   "version": "3.7.4"
  }
 },
 "nbformat": 4,
 "nbformat_minor": 2
}
